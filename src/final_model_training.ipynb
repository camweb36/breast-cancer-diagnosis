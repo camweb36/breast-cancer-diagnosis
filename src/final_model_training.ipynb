{
 "cells": [
  {
   "cell_type": "code",
   "execution_count": 10,
   "metadata": {},
   "outputs": [],
   "source": [
    "from sklearn.model_selection import train_test_split\n",
    "from sklearn.preprocessing import StandardScaler, LabelEncoder\n",
    "from sklearn.linear_model import LogisticRegression\n",
    "from sklearn.compose import ColumnTransformer\n",
    "from sklearn.pipeline import Pipeline\n",
    "import pandas as pd\n",
    "from tqdm import tqdm\n",
    "import pickle\n",
    "\n",
    "df = pd.read_csv(\"../data/data_raw.csv\")\n",
    "df = df.drop('id', 1)\n",
    "\n",
    "y = df['diagnosis']\n",
    "X = df.loc[:, df.columns != 'diagnosis']"
   ]
  },
  {
   "cell_type": "code",
   "execution_count": 27,
   "metadata": {},
   "outputs": [
    {
     "name": "stderr",
     "output_type": "stream",
     "text": [
      "100%|██████████| 100/100 [00:09<00:00, 10.33it/s]\n"
     ]
    }
   ],
   "source": [
    "final_data = []\n",
    "final_models = []\n",
    "maj_class = []\n",
    "final_train = []\n",
    "\n",
    "for i in tqdm(range(10,110)):\n",
    "    \n",
    "    rs = 42*i\n",
    "    \n",
    "    X_train, X_test, y_train, y_test = train_test_split(X, y, test_size = 0.2, random_state=rs)\n",
    "    \n",
    "    le = LabelEncoder()\n",
    "    y_train = le.fit_transform(y_train)\n",
    "    y_test = le.transform(y_test)\n",
    "    \n",
    "    std_ftrs = list(X.columns)\n",
    "    preprocessor = ColumnTransformer(transformers=[('std', StandardScaler(), std_ftrs)])\n",
    "    \n",
    "    pipe = Pipeline(steps=[('preprocessor', preprocessor)])\n",
    "    \n",
    "    X_train = pipe.fit_transform(X_train)\n",
    "    X_test = pipe.transform(X_test)\n",
    "    \n",
    "    clf = LogisticRegression(penalty='l2', solver='saga', C=1, random_state=rs, max_iter=100000)\n",
    "    \n",
    "    clf.fit(X_train, y_train)\n",
    "    \n",
    "    final_data.append((X_test, y_test))\n",
    "    final_train.append((X_train, y_train))\n",
    "    \n",
    "    final_models.append(clf)\n",
    "    maj_class.append(max(set(y_train), key=list(y_train).count))\n",
    "    "
   ]
  },
  {
   "cell_type": "code",
   "execution_count": 28,
   "metadata": {},
   "outputs": [],
   "source": [
    "file = open('../results/final_models.save', 'wb')\n",
    "pickle.dump(final_models, file)\n",
    "file.close()\n",
    "\n",
    "file = open('../data/final_test_data.save', 'wb')\n",
    "pickle.dump(final_data, file)\n",
    "file.close()\n",
    "\n",
    "file = open('../data/final_train_data.save', 'wb')\n",
    "pickle.dump(final_train, file)\n",
    "file.close()\n",
    "\n"
   ]
  },
  {
   "cell_type": "code",
   "execution_count": 26,
   "metadata": {},
   "outputs": [
    {
     "data": {
      "text/plain": [
       "0"
      ]
     },
     "execution_count": 26,
     "metadata": {},
     "output_type": "execute_result"
    }
   ],
   "source": [
    "from statistics import mean\n",
    "mean(maj_class)"
   ]
  }
 ],
 "metadata": {
  "kernelspec": {
   "display_name": "Python 3",
   "language": "python",
   "name": "python3"
  },
  "language_info": {
   "codemirror_mode": {
    "name": "ipython",
    "version": 3
   },
   "file_extension": ".py",
   "mimetype": "text/x-python",
   "name": "python",
   "nbconvert_exporter": "python",
   "pygments_lexer": "ipython3",
   "version": "3.7.8"
  }
 },
 "nbformat": 4,
 "nbformat_minor": 4
}
